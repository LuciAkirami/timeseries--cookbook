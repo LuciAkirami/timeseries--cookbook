{
 "cells": [
  {
   "cell_type": "code",
   "execution_count": 2,
   "metadata": {},
   "outputs": [],
   "source": [
    "import pandas as pd\n",
    "import numpy as np"
   ]
  },
  {
   "cell_type": "markdown",
   "metadata": {},
   "source": [
    "## Reading Data containing Dates"
   ]
  },
  {
   "cell_type": "code",
   "execution_count": 10,
   "metadata": {},
   "outputs": [
    {
     "name": "stdout",
     "output_type": "stream",
     "text": [
      "Our Data\n",
      "   year  month  day  sales\n",
      "0  2001      1    5      9\n",
      "1  2002      3   22     10\n",
      "\n",
      "Converting to date time\n",
      "0   2001-01-05\n",
      "1   2002-03-22\n",
      "dtype: datetime64[ns]\n",
      "\n",
      "Dates Added\n",
      "   year  month  day  sales       date\n",
      "0  2001      1    5      9 2001-01-05\n",
      "1  2002      3   22     10 2002-03-22\n"
     ]
    }
   ],
   "source": [
    "# reading a dataframe where the date is not explicitly mentioned\n",
    "\n",
    "# creating a dummy data\n",
    "data = {\"year\":[2001,2002],\"month\":[1,3],\"day\":[5,22],\"sales\":[9,10]}\n",
    "data = pd.DataFrame(data)\n",
    "print(\"Our Data\")\n",
    "print(data)\n",
    "\n",
    "# now converting our data to dates (to_datetime only works if it contains all the \n",
    "# three columns that is year, month and day)\n",
    "print(\"\\nConverting to date time\")\n",
    "print(pd.to_datetime(data.iloc[:,:3]))\n",
    "\n",
    "# adding the new dates to our dataframe\n",
    "data[\"date\"] = pd.to_datetime(data.iloc[:,:3])\n",
    "print(\"\\nDates Added\")\n",
    "print(data)"
   ]
  },
  {
   "cell_type": "markdown",
   "metadata": {},
   "source": [
    "## Working with Dates Data"
   ]
  },
  {
   "cell_type": "code",
   "execution_count": 10,
   "metadata": {},
   "outputs": [
    {
     "data": {
      "text/html": [
       "<div>\n",
       "<style scoped>\n",
       "    .dataframe tbody tr th:only-of-type {\n",
       "        vertical-align: middle;\n",
       "    }\n",
       "\n",
       "    .dataframe tbody tr th {\n",
       "        vertical-align: top;\n",
       "    }\n",
       "\n",
       "    .dataframe thead th {\n",
       "        text-align: right;\n",
       "    }\n",
       "</style>\n",
       "<table border=\"1\" class=\"dataframe\">\n",
       "  <thead>\n",
       "    <tr style=\"text-align: right;\">\n",
       "      <th></th>\n",
       "      <th>data</th>\n",
       "    </tr>\n",
       "  </thead>\n",
       "  <tbody>\n",
       "    <tr>\n",
       "      <th>2023-07-06</th>\n",
       "      <td>44</td>\n",
       "    </tr>\n",
       "    <tr>\n",
       "      <th>2023-07-07</th>\n",
       "      <td>32</td>\n",
       "    </tr>\n",
       "    <tr>\n",
       "      <th>2023-07-08</th>\n",
       "      <td>40</td>\n",
       "    </tr>\n",
       "    <tr>\n",
       "      <th>2023-07-09</th>\n",
       "      <td>50</td>\n",
       "    </tr>\n",
       "    <tr>\n",
       "      <th>2023-07-10</th>\n",
       "      <td>66</td>\n",
       "    </tr>\n",
       "  </tbody>\n",
       "</table>\n",
       "</div>"
      ],
      "text/plain": [
       "            data\n",
       "2023-07-06    44\n",
       "2023-07-07    32\n",
       "2023-07-08    40\n",
       "2023-07-09    50\n",
       "2023-07-10    66"
      ]
     },
     "execution_count": 10,
     "metadata": {},
     "output_type": "execute_result"
    }
   ],
   "source": [
    "# Create a series of dates with Dates as index\n",
    "some_dates = pd.date_range(start=\"July 6 2023\", periods = 15, freq=\"D\")\n",
    "random_data = np.random.randint(low=1, high=100, size=15)\n",
    "\n",
    "df = pd.DataFrame({\"data\": random_data}, index=some_dates)\n",
    "df.head()"
   ]
  },
  {
   "cell_type": "code",
   "execution_count": null,
   "metadata": {},
   "outputs": [],
   "source": []
  }
 ],
 "metadata": {
  "kernelspec": {
   "display_name": "timenv",
   "language": "python",
   "name": "python3"
  },
  "language_info": {
   "codemirror_mode": {
    "name": "ipython",
    "version": 3
   },
   "file_extension": ".py",
   "mimetype": "text/x-python",
   "name": "python",
   "nbconvert_exporter": "python",
   "pygments_lexer": "ipython3",
   "version": "3.10.11"
  }
 },
 "nbformat": 4,
 "nbformat_minor": 2
}
