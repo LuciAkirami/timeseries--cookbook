{
 "cells": [
  {
   "cell_type": "code",
   "execution_count": 2,
   "metadata": {},
   "outputs": [],
   "source": [
    "import pandas as pd\n",
    "import numpy as np\n",
    "from IPython.display import display"
   ]
  },
  {
   "cell_type": "markdown",
   "metadata": {},
   "source": [
    "## Reading Data containing Dates"
   ]
  },
  {
   "cell_type": "code",
   "execution_count": 20,
   "metadata": {},
   "outputs": [
    {
     "name": "stdout",
     "output_type": "stream",
     "text": [
      "Our Data\n",
      "   year  month  day  sales\n",
      "0  2001      1    5      9\n",
      "1  2002      3   22     10\n",
      "\n",
      "Converting to date time\n",
      "0   2001-01-05\n",
      "1   2002-03-22\n",
      "dtype: datetime64[ns]\n",
      "\n",
      "Dates Added\n",
      "   year  month  day  sales       date\n",
      "0  2001      1    5      9 2001-01-05\n",
      "1  2002      3   22     10 2002-03-22\n"
     ]
    }
   ],
   "source": [
    "# reading a dataframe where the date is not explicitly mentioned\n",
    "\n",
    "# ---------- Method 1 ---------------\n",
    "# creating a dummy data\n",
    "data = {\"year\":[2001,2002],\"month\":[1,3],\"day\":[5,22],\"sales\":[9,10]}\n",
    "data = pd.DataFrame(data)\n",
    "print(\"Our Data\")\n",
    "print(data)\n",
    "\n",
    "# now converting our data to dates (to_datetime() only works if it contains all the \n",
    "# three columns that is year, month and day)\n",
    "print(\"\\nConverting to date time\")\n",
    "print(pd.to_datetime(data.iloc[:,:3]))\n",
    "\n",
    "# adding the new dates to our dataframe\n",
    "data[\"date\"] = pd.to_datetime(data.iloc[:,:3])\n",
    "print(\"\\nDates Added\")\n",
    "print(data)"
   ]
  },
  {
   "cell_type": "markdown",
   "metadata": {},
   "source": [
    "Note: For the above to work, it should satisfy below conditions\n",
    " - The data must contain atleast 3 columns, i.e. year, month and day. These should be named as is\n",
    " - Apart from the above, it can contain other columns like \"hour\"\n",
    " - If the column names containing year, month and day are \"a\", \"b\" and \"c\", then it doesnt work\n",
    " as the column names must be with the following names \"year\", \"month\" and \"day\" (it's case insensitive)"
   ]
  },
  {
   "cell_type": "code",
   "execution_count": 21,
   "metadata": {},
   "outputs": [
    {
     "name": "stdout",
     "output_type": "stream",
     "text": [
      "Original Data: col1 - Year, col2 - Month\n",
      "   col1   col2   col3\n",
      "0  1992      5     89\n",
      "1  1993      6     98\n",
      "2  1993     12     98\n",
      "\n",
      "Specifying Dates as List to parse_dates in pd.read_csv:\n",
      "  col1_ col2   col3\n",
      "0 1992-05-01     89\n",
      "1 1993-06-01     98\n",
      "2 1993-12-01     98\n",
      "\n",
      "Extracing and saving date in new Col:\n",
      "        date   col3\n",
      "0 1992-05-01     89\n",
      "1 1993-06-01     98\n",
      "2 1993-12-01     98\n"
     ]
    },
    {
     "name": "stderr",
     "output_type": "stream",
     "text": [
      "C:\\Users\\AJAY\\AppData\\Local\\Temp\\ipykernel_20924\\393474110.py:11: UserWarning: Could not infer format, so each element will be parsed individually, falling back to `dateutil`. To ensure parsing is consistent and as-expected, please specify a format.\n",
      "  print(pd.read_csv(\"eg_1.csv\",parse_dates=[[0,1]]))\n",
      "C:\\Users\\AJAY\\AppData\\Local\\Temp\\ipykernel_20924\\393474110.py:15: UserWarning: Could not infer format, so each element will be parsed individually, falling back to `dateutil`. To ensure parsing is consistent and as-expected, please specify a format.\n",
      "  print(pd.read_csv(\"eg_1.csv\",parse_dates={\"date\":[0,1]}))\n"
     ]
    }
   ],
   "source": [
    "# ------------ Method 2 ---------------\n",
    "# getting in a custom data\n",
    "print(\"Original Data: col1 - Year, col2 - Month\")\n",
    "print(pd.read_csv(\"eg_1.csv\"))\n",
    "\n",
    "# loading in the data with parse_dates\n",
    "# If we have columns like month, year and day, which refer to same date, then we pass this a list [[year_col, month_col, day_col]] tp parse_dates\n",
    "# If we have two datetime columns, like month1, year1, day1 which refer to one date time and month2, year2 and day2 which refer to another date, then\n",
    "# to parse these into two seperate date columns we can pass them as [[year1, month1, day1],[year2, month2, day2]]\n",
    "print(\"\\nSpecifying Dates as List to parse_dates in pd.read_csv:\")\n",
    "print(pd.read_csv(\"eg_1.csv\",parse_dates=[[0,1]]))\n",
    "\n",
    "# renaming the newly formed column - For this we pass the the columns to be used as list Value and the new column name as Key\n",
    "print(\"\\nExtracing and saving date in new Col:\")\n",
    "print(pd.read_csv(\"eg_1.csv\",parse_dates={\"date\":[0,1]}))\n"
   ]
  },
  {
   "cell_type": "code",
   "execution_count": 22,
   "metadata": {},
   "outputs": [
    {
     "name": "stdout",
     "output_type": "stream",
     "text": [
      "Original Data: col1 - Year, col2 - Month\n",
      "   col1   col2   col3\n",
      "0  1992      5     89\n",
      "1  1993      6     98\n",
      "2  1993     12     98\n",
      "\n",
      "Extracing and saving date in new Col:\n",
      "        date   col3\n",
      "0 1992-05-01     89\n",
      "1 1993-06-01     98\n",
      "2 1993-12-01     98\n"
     ]
    }
   ],
   "source": [
    "# ----- Using Date Format -------\n",
    "\n",
    "# getting in a custom data\n",
    "print(\"Original Data: col1 - Year, col2 - Month\")\n",
    "print(pd.read_csv(\"eg_1.csv\"))\n",
    "\n",
    "# renaming the newly formed column - For this we pass the the columns to be used as list Value and the new column name as Key\n",
    "print(\"\\nExtracing and saving date in new Col:\")\n",
    "print(pd.read_csv(\"eg_1.csv\",parse_dates={\"date\":[0,1]},date_format='%Y %m')) # space is provided because the year and month are provided in separate columns"
   ]
  },
  {
   "cell_type": "code",
   "execution_count": 23,
   "metadata": {},
   "outputs": [
    {
     "name": "stdout",
     "output_type": "stream",
     "text": [
      "Our Data\n",
      "           col1       col2        col3  col4\n",
      "0  July 12 2023  2019-4-15  05-12-2008    90\n",
      "1  July 23 2023  2019-8-19   25-5-2009    14\n",
      "\n",
      "Type of Data\n",
      " col1    object\n",
      "col2    object\n",
      "col3    object\n",
      "col4     int64\n",
      "dtype: object\n",
      "\n",
      "Using just Parse Dates for Col2\n",
      "\n",
      "Transformed Data\n",
      "    date_col1          col1        col3  col4\n",
      "0 2019-04-15  July 12 2023  05-12-2008    90\n",
      "1 2019-08-19  July 23 2023   25-5-2009    14\n",
      "\n",
      "Type of Data\n",
      " date_col1    datetime64[ns]\n",
      "col1                 object\n",
      "col3                 object\n",
      "col4                  int64\n",
      "dtype: object\n",
      "\n",
      "Using just Parse Dates and DayFirst for Col3\n",
      "\n",
      "Transformed Data\n",
      "            col1       col2       col3  col4\n",
      "0  July 12 2023  2019-4-15 2008-12-05    90\n",
      "1  July 23 2023  2019-8-19 2009-05-25    14\n",
      "\n",
      "Type of Data\n",
      " col1            object\n",
      "col2            object\n",
      "col3    datetime64[ns]\n",
      "col4             int64\n",
      "dtype: object\n"
     ]
    }
   ],
   "source": [
    "# ----- Some more experiments with Date Format ------\n",
    "data = pd.read_csv(\"eg_2.csv\")\n",
    "print(\"Our Data\")\n",
    "print(data)\n",
    "print(\"\\nType of Data\\n\",data.dtypes)\n",
    "\n",
    "# using parse dates and date format\n",
    "print(\"\\nUsing just Parse Dates for Col2\")\n",
    "data = pd.read_csv(\"eg_2.csv\",parse_dates={\"date_col1\":[1]})\n",
    "print(\"\\nTransformed Data\\n\",data)\n",
    "print(\"\\nType of Data\\n\",data.dtypes)\n",
    "\n",
    "# using parse dates and date format\n",
    "print(\"\\nUsing just Parse Dates and DayFirst for Col3\")\n",
    "data = pd.read_csv(\"eg_2.csv\",parse_dates=[2],dayfirst=True)\n",
    "print(\"\\nTransformed Data\\n\",data)\n",
    "print(\"\\nType of Data\\n\",data.dtypes)"
   ]
  },
  {
   "cell_type": "markdown",
   "metadata": {},
   "source": [
    "Additional links\n",
    "- https://stackoverflow.com/questions/25015711/time-data-does-not-match-format (in comments they recommend dateutils library)\n",
    "- https://docs.python.org/2/library/datetime.html#strftime-and-strptime-behavior (contains \"str\" to be used in date_format)"
   ]
  },
  {
   "cell_type": "markdown",
   "metadata": {},
   "source": [
    "Using `to_datetime()` for converting Columns to Datetime Type"
   ]
  },
  {
   "cell_type": "code",
   "execution_count": 3,
   "metadata": {},
   "outputs": [
    {
     "data": {
      "text/html": [
       "<div>\n",
       "<style scoped>\n",
       "    .dataframe tbody tr th:only-of-type {\n",
       "        vertical-align: middle;\n",
       "    }\n",
       "\n",
       "    .dataframe tbody tr th {\n",
       "        vertical-align: top;\n",
       "    }\n",
       "\n",
       "    .dataframe thead th {\n",
       "        text-align: right;\n",
       "    }\n",
       "</style>\n",
       "<table border=\"1\" class=\"dataframe\">\n",
       "  <thead>\n",
       "    <tr style=\"text-align: right;\">\n",
       "      <th></th>\n",
       "      <th>col1</th>\n",
       "      <th>col2</th>\n",
       "      <th>col3</th>\n",
       "      <th>col4</th>\n",
       "    </tr>\n",
       "  </thead>\n",
       "  <tbody>\n",
       "    <tr>\n",
       "      <th>0</th>\n",
       "      <td>July 12 2023</td>\n",
       "      <td>2019-4-15</td>\n",
       "      <td>05-12-2008</td>\n",
       "      <td>90</td>\n",
       "    </tr>\n",
       "    <tr>\n",
       "      <th>1</th>\n",
       "      <td>July 23 2023</td>\n",
       "      <td>2019-8-19</td>\n",
       "      <td>25-5-2009</td>\n",
       "      <td>14</td>\n",
       "    </tr>\n",
       "  </tbody>\n",
       "</table>\n",
       "</div>"
      ],
      "text/plain": [
       "           col1       col2        col3  col4\n",
       "0  July 12 2023  2019-4-15  05-12-2008    90\n",
       "1  July 23 2023  2019-8-19   25-5-2009    14"
      ]
     },
     "metadata": {},
     "output_type": "display_data"
    },
    {
     "data": {
      "text/plain": [
       "col1    object\n",
       "col2    object\n",
       "col3    object\n",
       "col4     int64\n",
       "dtype: object"
      ]
     },
     "metadata": {},
     "output_type": "display_data"
    },
    {
     "name": "stdout",
     "output_type": "stream",
     "text": [
      "col1 converted to datetime\n"
     ]
    },
    {
     "data": {
      "text/html": [
       "<div>\n",
       "<style scoped>\n",
       "    .dataframe tbody tr th:only-of-type {\n",
       "        vertical-align: middle;\n",
       "    }\n",
       "\n",
       "    .dataframe tbody tr th {\n",
       "        vertical-align: top;\n",
       "    }\n",
       "\n",
       "    .dataframe thead th {\n",
       "        text-align: right;\n",
       "    }\n",
       "</style>\n",
       "<table border=\"1\" class=\"dataframe\">\n",
       "  <thead>\n",
       "    <tr style=\"text-align: right;\">\n",
       "      <th></th>\n",
       "      <th>col1</th>\n",
       "      <th>col2</th>\n",
       "      <th>col3</th>\n",
       "      <th>col4</th>\n",
       "    </tr>\n",
       "  </thead>\n",
       "  <tbody>\n",
       "    <tr>\n",
       "      <th>0</th>\n",
       "      <td>2023-07-12</td>\n",
       "      <td>2019-4-15</td>\n",
       "      <td>05-12-2008</td>\n",
       "      <td>90</td>\n",
       "    </tr>\n",
       "    <tr>\n",
       "      <th>1</th>\n",
       "      <td>2023-07-23</td>\n",
       "      <td>2019-8-19</td>\n",
       "      <td>25-5-2009</td>\n",
       "      <td>14</td>\n",
       "    </tr>\n",
       "  </tbody>\n",
       "</table>\n",
       "</div>"
      ],
      "text/plain": [
       "        col1       col2        col3  col4\n",
       "0 2023-07-12  2019-4-15  05-12-2008    90\n",
       "1 2023-07-23  2019-8-19   25-5-2009    14"
      ]
     },
     "metadata": {},
     "output_type": "display_data"
    },
    {
     "data": {
      "text/plain": [
       "col1    datetime64[ns]\n",
       "col2            object\n",
       "col3            object\n",
       "col4             int64\n",
       "dtype: object"
      ]
     },
     "metadata": {},
     "output_type": "display_data"
    },
    {
     "name": "stdout",
     "output_type": "stream",
     "text": [
      "col2 converted to datetime\n"
     ]
    },
    {
     "data": {
      "text/html": [
       "<div>\n",
       "<style scoped>\n",
       "    .dataframe tbody tr th:only-of-type {\n",
       "        vertical-align: middle;\n",
       "    }\n",
       "\n",
       "    .dataframe tbody tr th {\n",
       "        vertical-align: top;\n",
       "    }\n",
       "\n",
       "    .dataframe thead th {\n",
       "        text-align: right;\n",
       "    }\n",
       "</style>\n",
       "<table border=\"1\" class=\"dataframe\">\n",
       "  <thead>\n",
       "    <tr style=\"text-align: right;\">\n",
       "      <th></th>\n",
       "      <th>col1</th>\n",
       "      <th>col2</th>\n",
       "      <th>col3</th>\n",
       "      <th>col4</th>\n",
       "    </tr>\n",
       "  </thead>\n",
       "  <tbody>\n",
       "    <tr>\n",
       "      <th>0</th>\n",
       "      <td>2023-07-12</td>\n",
       "      <td>2019-04-15</td>\n",
       "      <td>05-12-2008</td>\n",
       "      <td>90</td>\n",
       "    </tr>\n",
       "    <tr>\n",
       "      <th>1</th>\n",
       "      <td>2023-07-23</td>\n",
       "      <td>2019-08-19</td>\n",
       "      <td>25-5-2009</td>\n",
       "      <td>14</td>\n",
       "    </tr>\n",
       "  </tbody>\n",
       "</table>\n",
       "</div>"
      ],
      "text/plain": [
       "        col1       col2        col3  col4\n",
       "0 2023-07-12 2019-04-15  05-12-2008    90\n",
       "1 2023-07-23 2019-08-19   25-5-2009    14"
      ]
     },
     "metadata": {},
     "output_type": "display_data"
    },
    {
     "data": {
      "text/plain": [
       "col1    datetime64[ns]\n",
       "col2    datetime64[ns]\n",
       "col3            object\n",
       "col4             int64\n",
       "dtype: object"
      ]
     },
     "metadata": {},
     "output_type": "display_data"
    },
    {
     "data": {
      "text/html": [
       "<div>\n",
       "<style scoped>\n",
       "    .dataframe tbody tr th:only-of-type {\n",
       "        vertical-align: middle;\n",
       "    }\n",
       "\n",
       "    .dataframe tbody tr th {\n",
       "        vertical-align: top;\n",
       "    }\n",
       "\n",
       "    .dataframe thead th {\n",
       "        text-align: right;\n",
       "    }\n",
       "</style>\n",
       "<table border=\"1\" class=\"dataframe\">\n",
       "  <thead>\n",
       "    <tr style=\"text-align: right;\">\n",
       "      <th></th>\n",
       "      <th>col1</th>\n",
       "      <th>col2</th>\n",
       "      <th>col3</th>\n",
       "      <th>col4</th>\n",
       "    </tr>\n",
       "  </thead>\n",
       "  <tbody>\n",
       "    <tr>\n",
       "      <th>0</th>\n",
       "      <td>2023-07-12</td>\n",
       "      <td>2019-04-15</td>\n",
       "      <td>05-12-2008</td>\n",
       "      <td>90</td>\n",
       "    </tr>\n",
       "    <tr>\n",
       "      <th>1</th>\n",
       "      <td>2023-07-23</td>\n",
       "      <td>2019-08-19</td>\n",
       "      <td>25-5-2009</td>\n",
       "      <td>14</td>\n",
       "    </tr>\n",
       "  </tbody>\n",
       "</table>\n",
       "</div>"
      ],
      "text/plain": [
       "        col1       col2        col3  col4\n",
       "0 2023-07-12 2019-04-15  05-12-2008    90\n",
       "1 2023-07-23 2019-08-19   25-5-2009    14"
      ]
     },
     "metadata": {},
     "output_type": "display_data"
    },
    {
     "name": "stdout",
     "output_type": "stream",
     "text": [
      "col3 converted to datetime\n"
     ]
    },
    {
     "data": {
      "text/html": [
       "<div>\n",
       "<style scoped>\n",
       "    .dataframe tbody tr th:only-of-type {\n",
       "        vertical-align: middle;\n",
       "    }\n",
       "\n",
       "    .dataframe tbody tr th {\n",
       "        vertical-align: top;\n",
       "    }\n",
       "\n",
       "    .dataframe thead th {\n",
       "        text-align: right;\n",
       "    }\n",
       "</style>\n",
       "<table border=\"1\" class=\"dataframe\">\n",
       "  <thead>\n",
       "    <tr style=\"text-align: right;\">\n",
       "      <th></th>\n",
       "      <th>col1</th>\n",
       "      <th>col2</th>\n",
       "      <th>col3</th>\n",
       "      <th>col4</th>\n",
       "    </tr>\n",
       "  </thead>\n",
       "  <tbody>\n",
       "    <tr>\n",
       "      <th>0</th>\n",
       "      <td>2023-07-12</td>\n",
       "      <td>2019-04-15</td>\n",
       "      <td>2008-12-05</td>\n",
       "      <td>90</td>\n",
       "    </tr>\n",
       "    <tr>\n",
       "      <th>1</th>\n",
       "      <td>2023-07-23</td>\n",
       "      <td>2019-08-19</td>\n",
       "      <td>2009-05-25</td>\n",
       "      <td>14</td>\n",
       "    </tr>\n",
       "  </tbody>\n",
       "</table>\n",
       "</div>"
      ],
      "text/plain": [
       "        col1       col2       col3  col4\n",
       "0 2023-07-12 2019-04-15 2008-12-05    90\n",
       "1 2023-07-23 2019-08-19 2009-05-25    14"
      ]
     },
     "metadata": {},
     "output_type": "display_data"
    },
    {
     "data": {
      "text/plain": [
       "col1    datetime64[ns]\n",
       "col2    datetime64[ns]\n",
       "col3    datetime64[ns]\n",
       "col4             int64\n",
       "dtype: object"
      ]
     },
     "metadata": {},
     "output_type": "display_data"
    }
   ],
   "source": [
    "# -------- to_datetime() -----------\n",
    "data = pd.read_csv(\"eg_2.csv\")\n",
    "display(data)\n",
    "display(data.dtypes)\n",
    "\n",
    "# using to_datetime() to convert the column to datetime type\n",
    "data['col1'] = pd.to_datetime(data['col1'])\n",
    "print(\"col1 converted to datetime\")\n",
    "display(data)\n",
    "display(data.dtypes)\n",
    "\n",
    "# using to_datetime() to convert the column to datetime type\n",
    "data['col2'] = pd.to_datetime(data['col2'])\n",
    "print(\"col2 converted to datetime\")\n",
    "display(data)\n",
    "display(data.dtypes)\n",
    "\n",
    "# using to_datetime() to convert the column to datetime type\n",
    "display(data)\n",
    "data['col3'] = pd.to_datetime(data['col3'], dayfirst=True)\n",
    "print(\"col3 converted to datetime\")\n",
    "display(data)\n",
    "display(data.dtypes)"
   ]
  },
  {
   "cell_type": "code",
   "execution_count": 4,
   "metadata": {},
   "outputs": [
    {
     "data": {
      "text/html": [
       "<div>\n",
       "<style scoped>\n",
       "    .dataframe tbody tr th:only-of-type {\n",
       "        vertical-align: middle;\n",
       "    }\n",
       "\n",
       "    .dataframe tbody tr th {\n",
       "        vertical-align: top;\n",
       "    }\n",
       "\n",
       "    .dataframe thead th {\n",
       "        text-align: right;\n",
       "    }\n",
       "</style>\n",
       "<table border=\"1\" class=\"dataframe\">\n",
       "  <thead>\n",
       "    <tr style=\"text-align: right;\">\n",
       "      <th></th>\n",
       "      <th>year</th>\n",
       "      <th>day</th>\n",
       "      <th>month</th>\n",
       "      <th>hour</th>\n",
       "      <th>sales</th>\n",
       "    </tr>\n",
       "  </thead>\n",
       "  <tbody>\n",
       "    <tr>\n",
       "      <th>0</th>\n",
       "      <td>2019</td>\n",
       "      <td>22</td>\n",
       "      <td>5</td>\n",
       "      <td>9</td>\n",
       "      <td>90</td>\n",
       "    </tr>\n",
       "    <tr>\n",
       "      <th>1</th>\n",
       "      <td>2020</td>\n",
       "      <td>5</td>\n",
       "      <td>7</td>\n",
       "      <td>12</td>\n",
       "      <td>89</td>\n",
       "    </tr>\n",
       "  </tbody>\n",
       "</table>\n",
       "</div>"
      ],
      "text/plain": [
       "   year  day  month  hour  sales\n",
       "0  2019   22      5     9     90\n",
       "1  2020    5      7    12     89"
      ]
     },
     "metadata": {},
     "output_type": "display_data"
    },
    {
     "name": "stdout",
     "output_type": "stream",
     "text": [
      "Using to_datetime to create the Datetime\n"
     ]
    },
    {
     "data": {
      "text/html": [
       "<div>\n",
       "<style scoped>\n",
       "    .dataframe tbody tr th:only-of-type {\n",
       "        vertical-align: middle;\n",
       "    }\n",
       "\n",
       "    .dataframe tbody tr th {\n",
       "        vertical-align: top;\n",
       "    }\n",
       "\n",
       "    .dataframe thead th {\n",
       "        text-align: right;\n",
       "    }\n",
       "</style>\n",
       "<table border=\"1\" class=\"dataframe\">\n",
       "  <thead>\n",
       "    <tr style=\"text-align: right;\">\n",
       "      <th></th>\n",
       "      <th>year</th>\n",
       "      <th>day</th>\n",
       "      <th>month</th>\n",
       "      <th>hour</th>\n",
       "      <th>sales</th>\n",
       "      <th>datetime</th>\n",
       "    </tr>\n",
       "  </thead>\n",
       "  <tbody>\n",
       "    <tr>\n",
       "      <th>0</th>\n",
       "      <td>2019</td>\n",
       "      <td>22</td>\n",
       "      <td>5</td>\n",
       "      <td>9</td>\n",
       "      <td>90</td>\n",
       "      <td>2019-05-22</td>\n",
       "    </tr>\n",
       "    <tr>\n",
       "      <th>1</th>\n",
       "      <td>2020</td>\n",
       "      <td>5</td>\n",
       "      <td>7</td>\n",
       "      <td>12</td>\n",
       "      <td>89</td>\n",
       "      <td>2020-07-05</td>\n",
       "    </tr>\n",
       "  </tbody>\n",
       "</table>\n",
       "</div>"
      ],
      "text/plain": [
       "   year  day  month  hour  sales   datetime\n",
       "0  2019   22      5     9     90 2019-05-22\n",
       "1  2020    5      7    12     89 2020-07-05"
      ]
     },
     "metadata": {},
     "output_type": "display_data"
    },
    {
     "name": "stdout",
     "output_type": "stream",
     "text": [
      "Including Hours Tooo\n"
     ]
    },
    {
     "data": {
      "text/html": [
       "<div>\n",
       "<style scoped>\n",
       "    .dataframe tbody tr th:only-of-type {\n",
       "        vertical-align: middle;\n",
       "    }\n",
       "\n",
       "    .dataframe tbody tr th {\n",
       "        vertical-align: top;\n",
       "    }\n",
       "\n",
       "    .dataframe thead th {\n",
       "        text-align: right;\n",
       "    }\n",
       "</style>\n",
       "<table border=\"1\" class=\"dataframe\">\n",
       "  <thead>\n",
       "    <tr style=\"text-align: right;\">\n",
       "      <th></th>\n",
       "      <th>year</th>\n",
       "      <th>day</th>\n",
       "      <th>month</th>\n",
       "      <th>hour</th>\n",
       "      <th>sales</th>\n",
       "      <th>datetime</th>\n",
       "    </tr>\n",
       "  </thead>\n",
       "  <tbody>\n",
       "    <tr>\n",
       "      <th>0</th>\n",
       "      <td>2019</td>\n",
       "      <td>22</td>\n",
       "      <td>5</td>\n",
       "      <td>9</td>\n",
       "      <td>90</td>\n",
       "      <td>2019-05-22 09:00:00</td>\n",
       "    </tr>\n",
       "    <tr>\n",
       "      <th>1</th>\n",
       "      <td>2020</td>\n",
       "      <td>5</td>\n",
       "      <td>7</td>\n",
       "      <td>12</td>\n",
       "      <td>89</td>\n",
       "      <td>2020-07-05 12:00:00</td>\n",
       "    </tr>\n",
       "  </tbody>\n",
       "</table>\n",
       "</div>"
      ],
      "text/plain": [
       "   year  day  month  hour  sales            datetime\n",
       "0  2019   22      5     9     90 2019-05-22 09:00:00\n",
       "1  2020    5      7    12     89 2020-07-05 12:00:00"
      ]
     },
     "metadata": {},
     "output_type": "display_data"
    }
   ],
   "source": [
    "# using to_datetime() for data containing columns like year, day, month\n",
    "data = pd.read_csv(\"eg_3.csv\")\n",
    "display(data)\n",
    "\n",
    "print(\"Using to_datetime to create the Datetime\")\n",
    "data['datetime'] = pd.to_datetime(data.iloc[:,:3]) # or pd.to_datetime(data[['year','day','month']])\n",
    "display(data)\n",
    "\n",
    "print(\"Including Hours Tooo\")\n",
    "data['datetime'] = pd.to_datetime(data[['year','day','month','hour']]) \n",
    "display(data)"
   ]
  },
  {
   "cell_type": "markdown",
   "metadata": {},
   "source": [
    "## Working with Dates Data"
   ]
  },
  {
   "cell_type": "code",
   "execution_count": 7,
   "metadata": {},
   "outputs": [
    {
     "data": {
      "text/html": [
       "<div>\n",
       "<style scoped>\n",
       "    .dataframe tbody tr th:only-of-type {\n",
       "        vertical-align: middle;\n",
       "    }\n",
       "\n",
       "    .dataframe tbody tr th {\n",
       "        vertical-align: top;\n",
       "    }\n",
       "\n",
       "    .dataframe thead th {\n",
       "        text-align: right;\n",
       "    }\n",
       "</style>\n",
       "<table border=\"1\" class=\"dataframe\">\n",
       "  <thead>\n",
       "    <tr style=\"text-align: right;\">\n",
       "      <th></th>\n",
       "      <th>data</th>\n",
       "    </tr>\n",
       "  </thead>\n",
       "  <tbody>\n",
       "    <tr>\n",
       "      <th>2023-07-06</th>\n",
       "      <td>99</td>\n",
       "    </tr>\n",
       "    <tr>\n",
       "      <th>2023-07-07</th>\n",
       "      <td>90</td>\n",
       "    </tr>\n",
       "    <tr>\n",
       "      <th>2023-07-08</th>\n",
       "      <td>23</td>\n",
       "    </tr>\n",
       "    <tr>\n",
       "      <th>2023-07-09</th>\n",
       "      <td>75</td>\n",
       "    </tr>\n",
       "    <tr>\n",
       "      <th>2023-07-10</th>\n",
       "      <td>73</td>\n",
       "    </tr>\n",
       "    <tr>\n",
       "      <th>2023-07-11</th>\n",
       "      <td>53</td>\n",
       "    </tr>\n",
       "    <tr>\n",
       "      <th>2023-07-12</th>\n",
       "      <td>83</td>\n",
       "    </tr>\n",
       "    <tr>\n",
       "      <th>2023-07-13</th>\n",
       "      <td>1</td>\n",
       "    </tr>\n",
       "    <tr>\n",
       "      <th>2023-07-14</th>\n",
       "      <td>83</td>\n",
       "    </tr>\n",
       "    <tr>\n",
       "      <th>2023-07-15</th>\n",
       "      <td>28</td>\n",
       "    </tr>\n",
       "    <tr>\n",
       "      <th>2023-07-16</th>\n",
       "      <td>39</td>\n",
       "    </tr>\n",
       "    <tr>\n",
       "      <th>2023-07-17</th>\n",
       "      <td>74</td>\n",
       "    </tr>\n",
       "    <tr>\n",
       "      <th>2023-07-18</th>\n",
       "      <td>77</td>\n",
       "    </tr>\n",
       "    <tr>\n",
       "      <th>2023-07-19</th>\n",
       "      <td>38</td>\n",
       "    </tr>\n",
       "    <tr>\n",
       "      <th>2023-07-20</th>\n",
       "      <td>85</td>\n",
       "    </tr>\n",
       "  </tbody>\n",
       "</table>\n",
       "</div>"
      ],
      "text/plain": [
       "            data\n",
       "2023-07-06    99\n",
       "2023-07-07    90\n",
       "2023-07-08    23\n",
       "2023-07-09    75\n",
       "2023-07-10    73\n",
       "2023-07-11    53\n",
       "2023-07-12    83\n",
       "2023-07-13     1\n",
       "2023-07-14    83\n",
       "2023-07-15    28\n",
       "2023-07-16    39\n",
       "2023-07-17    74\n",
       "2023-07-18    77\n",
       "2023-07-19    38\n",
       "2023-07-20    85"
      ]
     },
     "execution_count": 7,
     "metadata": {},
     "output_type": "execute_result"
    }
   ],
   "source": [
    "# Create a series of dates with Dates as index\n",
    "some_dates = pd.date_range(start=\"July 6 2023\", periods = 15, freq=\"D\")\n",
    "random_data = np.random.randint(low=1, high=100, size=15)\n",
    "\n",
    "df = pd.DataFrame({\"data\": random_data}, index=some_dates)\n",
    "df"
   ]
  },
  {
   "cell_type": "code",
   "execution_count": 9,
   "metadata": {},
   "outputs": [
    {
     "name": "stdout",
     "output_type": "stream",
     "text": [
      "Data below July 15 2023\n"
     ]
    },
    {
     "data": {
      "text/html": [
       "<div>\n",
       "<style scoped>\n",
       "    .dataframe tbody tr th:only-of-type {\n",
       "        vertical-align: middle;\n",
       "    }\n",
       "\n",
       "    .dataframe tbody tr th {\n",
       "        vertical-align: top;\n",
       "    }\n",
       "\n",
       "    .dataframe thead th {\n",
       "        text-align: right;\n",
       "    }\n",
       "</style>\n",
       "<table border=\"1\" class=\"dataframe\">\n",
       "  <thead>\n",
       "    <tr style=\"text-align: right;\">\n",
       "      <th></th>\n",
       "      <th>data</th>\n",
       "    </tr>\n",
       "  </thead>\n",
       "  <tbody>\n",
       "    <tr>\n",
       "      <th>2023-07-15</th>\n",
       "      <td>28</td>\n",
       "    </tr>\n",
       "    <tr>\n",
       "      <th>2023-07-16</th>\n",
       "      <td>39</td>\n",
       "    </tr>\n",
       "    <tr>\n",
       "      <th>2023-07-17</th>\n",
       "      <td>74</td>\n",
       "    </tr>\n",
       "    <tr>\n",
       "      <th>2023-07-18</th>\n",
       "      <td>77</td>\n",
       "    </tr>\n",
       "    <tr>\n",
       "      <th>2023-07-19</th>\n",
       "      <td>38</td>\n",
       "    </tr>\n",
       "    <tr>\n",
       "      <th>2023-07-20</th>\n",
       "      <td>85</td>\n",
       "    </tr>\n",
       "  </tbody>\n",
       "</table>\n",
       "</div>"
      ],
      "text/plain": [
       "            data\n",
       "2023-07-15    28\n",
       "2023-07-16    39\n",
       "2023-07-17    74\n",
       "2023-07-18    77\n",
       "2023-07-19    38\n",
       "2023-07-20    85"
      ]
     },
     "metadata": {},
     "output_type": "display_data"
    },
    {
     "name": "stdout",
     "output_type": "stream",
     "text": [
      "\n",
      "Data till July 11\n"
     ]
    },
    {
     "data": {
      "text/html": [
       "<div>\n",
       "<style scoped>\n",
       "    .dataframe tbody tr th:only-of-type {\n",
       "        vertical-align: middle;\n",
       "    }\n",
       "\n",
       "    .dataframe tbody tr th {\n",
       "        vertical-align: top;\n",
       "    }\n",
       "\n",
       "    .dataframe thead th {\n",
       "        text-align: right;\n",
       "    }\n",
       "</style>\n",
       "<table border=\"1\" class=\"dataframe\">\n",
       "  <thead>\n",
       "    <tr style=\"text-align: right;\">\n",
       "      <th></th>\n",
       "      <th>data</th>\n",
       "    </tr>\n",
       "  </thead>\n",
       "  <tbody>\n",
       "    <tr>\n",
       "      <th>2023-07-06</th>\n",
       "      <td>99</td>\n",
       "    </tr>\n",
       "    <tr>\n",
       "      <th>2023-07-07</th>\n",
       "      <td>90</td>\n",
       "    </tr>\n",
       "    <tr>\n",
       "      <th>2023-07-08</th>\n",
       "      <td>23</td>\n",
       "    </tr>\n",
       "    <tr>\n",
       "      <th>2023-07-09</th>\n",
       "      <td>75</td>\n",
       "    </tr>\n",
       "    <tr>\n",
       "      <th>2023-07-10</th>\n",
       "      <td>73</td>\n",
       "    </tr>\n",
       "    <tr>\n",
       "      <th>2023-07-11</th>\n",
       "      <td>53</td>\n",
       "    </tr>\n",
       "  </tbody>\n",
       "</table>\n",
       "</div>"
      ],
      "text/plain": [
       "            data\n",
       "2023-07-06    99\n",
       "2023-07-07    90\n",
       "2023-07-08    23\n",
       "2023-07-09    75\n",
       "2023-07-10    73\n",
       "2023-07-11    53"
      ]
     },
     "metadata": {},
     "output_type": "display_data"
    },
    {
     "name": "stdout",
     "output_type": "stream",
     "text": [
      "\n",
      "Dates between July 12 and July 17\n"
     ]
    },
    {
     "data": {
      "text/html": [
       "<div>\n",
       "<style scoped>\n",
       "    .dataframe tbody tr th:only-of-type {\n",
       "        vertical-align: middle;\n",
       "    }\n",
       "\n",
       "    .dataframe tbody tr th {\n",
       "        vertical-align: top;\n",
       "    }\n",
       "\n",
       "    .dataframe thead th {\n",
       "        text-align: right;\n",
       "    }\n",
       "</style>\n",
       "<table border=\"1\" class=\"dataframe\">\n",
       "  <thead>\n",
       "    <tr style=\"text-align: right;\">\n",
       "      <th></th>\n",
       "      <th>data</th>\n",
       "    </tr>\n",
       "  </thead>\n",
       "  <tbody>\n",
       "    <tr>\n",
       "      <th>2023-07-12</th>\n",
       "      <td>83</td>\n",
       "    </tr>\n",
       "    <tr>\n",
       "      <th>2023-07-13</th>\n",
       "      <td>1</td>\n",
       "    </tr>\n",
       "    <tr>\n",
       "      <th>2023-07-14</th>\n",
       "      <td>83</td>\n",
       "    </tr>\n",
       "    <tr>\n",
       "      <th>2023-07-15</th>\n",
       "      <td>28</td>\n",
       "    </tr>\n",
       "    <tr>\n",
       "      <th>2023-07-16</th>\n",
       "      <td>39</td>\n",
       "    </tr>\n",
       "    <tr>\n",
       "      <th>2023-07-17</th>\n",
       "      <td>74</td>\n",
       "    </tr>\n",
       "  </tbody>\n",
       "</table>\n",
       "</div>"
      ],
      "text/plain": [
       "            data\n",
       "2023-07-12    83\n",
       "2023-07-13     1\n",
       "2023-07-14    83\n",
       "2023-07-15    28\n",
       "2023-07-16    39\n",
       "2023-07-17    74"
      ]
     },
     "metadata": {},
     "output_type": "display_data"
    }
   ],
   "source": [
    "# getting the data above or below a date\n",
    "print(\"Data below July 15 2023\")\n",
    "display(df['2023-07-15':])\n",
    "\n",
    "print(\"\\nData till July 11\")\n",
    "display(df[:\"July 11 2023\"]) # when indexing with dates, the date after colon(:) is inclusive\n",
    "\n",
    "print(\"\\nDates between July 12 and July 17\")\n",
    "display(df[\"July 12 2023\":\"07-17-2023\"])"
   ]
  },
  {
   "cell_type": "markdown",
   "metadata": {},
   "source": [
    "Note: When indexing with dates, the date after the \":\" is also inclusive"
   ]
  }
 ],
 "metadata": {
  "kernelspec": {
   "display_name": "timenv",
   "language": "python",
   "name": "python3"
  },
  "language_info": {
   "codemirror_mode": {
    "name": "ipython",
    "version": 3
   },
   "file_extension": ".py",
   "mimetype": "text/x-python",
   "name": "python",
   "nbconvert_exporter": "python",
   "pygments_lexer": "ipython3",
   "version": "3.10.11"
  }
 },
 "nbformat": 4,
 "nbformat_minor": 2
}
