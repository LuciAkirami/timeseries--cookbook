{
 "cells": [
  {
   "cell_type": "code",
   "execution_count": 2,
   "metadata": {},
   "outputs": [],
   "source": [
    "# imports\n",
    "import pandas as pd"
   ]
  },
  {
   "cell_type": "markdown",
   "metadata": {},
   "source": [
    "### Generating Dates with Different Naming Convention"
   ]
  },
  {
   "cell_type": "markdown",
   "metadata": {},
   "source": [
    "By default, Pandas uses American Style Dates. Meaning that Month is provided first before the day\n",
    "\n",
    "- \"5/2/2022\" -> May 2nd 2022\n",
    "- \"2/5/2022\" -> Feb 2nd 2022\n",
    "\n",
    "To use European style dates, we need to provide the \"day_first = true\""
   ]
  },
  {
   "cell_type": "code",
   "execution_count": 12,
   "metadata": {},
   "outputs": [
    {
     "name": "stdout",
     "output_type": "stream",
     "text": [
      "Printing the same Dates with different naming conventions\n",
      "DatetimeIndex(['2022-06-05', '2022-06-06', '2022-06-07', '2022-06-08',\n",
      "               '2022-06-09', '2022-06-10'],\n",
      "              dtype='datetime64[ns]', freq='D')\n",
      "DatetimeIndex(['2022-06-05', '2022-06-06', '2022-06-07', '2022-06-08',\n",
      "               '2022-06-09', '2022-06-10'],\n",
      "              dtype='datetime64[ns]', freq='D')\n",
      "DatetimeIndex(['2022-06-05', '2022-06-06', '2022-06-07', '2022-06-08',\n",
      "               '2022-06-09', '2022-06-10'],\n",
      "              dtype='datetime64[ns]', freq='D')\n",
      "DatetimeIndex(['2022-06-05', '2022-06-06', '2022-06-07', '2022-06-08',\n",
      "               '2022-06-09', '2022-06-10'],\n",
      "              dtype='datetime64[ns]', freq='D')\n",
      "DatetimeIndex(['2022-06-05', '2022-06-06', '2022-06-07', '2022-06-08',\n",
      "               '2022-06-09', '2022-06-10'],\n",
      "              dtype='datetime64[ns]', freq='D')\n",
      "DatetimeIndex(['2022-06-05', '2022-06-06', '2022-06-07', '2022-06-08',\n",
      "               '2022-06-09', '2022-06-10'],\n",
      "              dtype='datetime64[ns]', freq='D')\n",
      "DatetimeIndex(['2022-06-05', '2022-06-06', '2022-06-07', '2022-06-08',\n",
      "               '2022-06-09', '2022-06-10'],\n",
      "              dtype='datetime64[ns]', freq='D')\n",
      "DatetimeIndex(['2022-06-05', '2022-06-06', '2022-06-07', '2022-06-08',\n",
      "               '2022-06-09', '2022-06-10'],\n",
      "              dtype='datetime64[ns]', freq='D')\n",
      "DatetimeIndex(['2022-06-05', '2022-06-06', '2022-06-07', '2022-06-08',\n",
      "               '2022-06-09', '2022-06-10'],\n",
      "              dtype='datetime64[ns]', freq='D')\n"
     ]
    }
   ],
   "source": [
    "## Generating Dates with Different Naming Conventions\n",
    "\n",
    "print(\"Printing the same Dates with different naming conventions\")\n",
    "print(pd.date_range('Jun 5 2022', periods=6, freq='D')) # Jun 5, 2022 (with comma also works)\n",
    "print(pd.date_range('2022 Jun 5', periods=6, freq='D'))\n",
    "print(pd.date_range('2022-06-05', periods=6, freq='D')) \n",
    "print(pd.date_range('06-05-2022', periods=6, freq='D')) # month first\n",
    "print(pd.date_range('2022/06/05', periods=6, freq='D'))\n",
    "print(pd.date_range('06/05/2022', periods=6, freq='D')) # month first\n",
    "print(pd.date_range('2022.06.05', periods=6, freq='D'))\n",
    "print(pd.date_range('06.05.2022', periods=6, freq='D')) # month first\n",
    "# using full name June instead of Jun\n",
    "print(pd.date_range('June 5, 2022', periods=6, freq='D'))\n",
    "print(pd.date_range('2022 June 5', periods=6, freq='D'))"
   ]
  },
  {
   "cell_type": "code",
   "execution_count": 11,
   "metadata": {},
   "outputs": [
    {
     "data": {
      "text/plain": [
       "DatetimeIndex(['2022-06-05', '2022-06-06', '2022-06-07', '2022-06-08',\n",
       "               '2022-06-09', '2022-06-10'],\n",
       "              dtype='datetime64[ns]', freq='D')"
      ]
     },
     "execution_count": 11,
     "metadata": {},
     "output_type": "execute_result"
    }
   ],
   "source": [
    "pd.date_range('06-05-2022', periods=6, freq='D')"
   ]
  },
  {
   "cell_type": "code",
   "execution_count": null,
   "metadata": {},
   "outputs": [],
   "source": []
  }
 ],
 "metadata": {
  "kernelspec": {
   "display_name": "office",
   "language": "python",
   "name": "python3"
  },
  "language_info": {
   "codemirror_mode": {
    "name": "ipython",
    "version": 3
   },
   "file_extension": ".py",
   "mimetype": "text/x-python",
   "name": "python",
   "nbconvert_exporter": "python",
   "pygments_lexer": "ipython3",
   "version": "3.10.11"
  }
 },
 "nbformat": 4,
 "nbformat_minor": 2
}
