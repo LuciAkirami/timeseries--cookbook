{
 "cells": [
  {
   "cell_type": "code",
   "execution_count": 2,
   "metadata": {},
   "outputs": [],
   "source": [
    "# imports\n",
    "import pandas as pd"
   ]
  },
  {
   "cell_type": "markdown",
   "metadata": {},
   "source": [
    "### Generating Dates with Different Naming Convention"
   ]
  },
  {
   "cell_type": "markdown",
   "metadata": {},
   "source": [
    "By default, Pandas uses American Style Dates. Meaning that Month is provided first before the day\n",
    "\n",
    "- \"5/2/2022\" -> May 2nd 2022\n",
    "- \"2/5/2022\" -> Feb 2nd 2022\n",
    "\n",
    "To use European style dates, we need to provide the \"day_first = true\"\n",
    "\n",
    "- date_range() -> Returns DatetimeIndex\n",
    "- period_range() -> Return PeriodtimeIndex"
   ]
  },
  {
   "cell_type": "code",
   "execution_count": 12,
   "metadata": {},
   "outputs": [
    {
     "name": "stdout",
     "output_type": "stream",
     "text": [
      "Printing the same Dates with different naming conventions\n",
      "DatetimeIndex(['2022-06-05', '2022-06-06', '2022-06-07', '2022-06-08',\n",
      "               '2022-06-09', '2022-06-10'],\n",
      "              dtype='datetime64[ns]', freq='D')\n",
      "DatetimeIndex(['2022-06-05', '2022-06-06', '2022-06-07', '2022-06-08',\n",
      "               '2022-06-09', '2022-06-10'],\n",
      "              dtype='datetime64[ns]', freq='D')\n",
      "DatetimeIndex(['2022-06-05', '2022-06-06', '2022-06-07', '2022-06-08',\n",
      "               '2022-06-09', '2022-06-10'],\n",
      "              dtype='datetime64[ns]', freq='D')\n",
      "DatetimeIndex(['2022-06-05', '2022-06-06', '2022-06-07', '2022-06-08',\n",
      "               '2022-06-09', '2022-06-10'],\n",
      "              dtype='datetime64[ns]', freq='D')\n",
      "DatetimeIndex(['2022-06-05', '2022-06-06', '2022-06-07', '2022-06-08',\n",
      "               '2022-06-09', '2022-06-10'],\n",
      "              dtype='datetime64[ns]', freq='D')\n",
      "DatetimeIndex(['2022-06-05', '2022-06-06', '2022-06-07', '2022-06-08',\n",
      "               '2022-06-09', '2022-06-10'],\n",
      "              dtype='datetime64[ns]', freq='D')\n",
      "DatetimeIndex(['2022-06-05', '2022-06-06', '2022-06-07', '2022-06-08',\n",
      "               '2022-06-09', '2022-06-10'],\n",
      "              dtype='datetime64[ns]', freq='D')\n",
      "DatetimeIndex(['2022-06-05', '2022-06-06', '2022-06-07', '2022-06-08',\n",
      "               '2022-06-09', '2022-06-10'],\n",
      "              dtype='datetime64[ns]', freq='D')\n",
      "DatetimeIndex(['2022-06-05', '2022-06-06', '2022-06-07', '2022-06-08',\n",
      "               '2022-06-09', '2022-06-10'],\n",
      "              dtype='datetime64[ns]', freq='D')\n"
     ]
    }
   ],
   "source": [
    "## Generating Dates with Different Naming Conventions\n",
    "\n",
    "print(\"Printing the same Dates with different naming conventions\")\n",
    "print(pd.date_range('Jun 5 2022', periods=6, freq='D')) # Jun 5, 2022 (with comma also works)\n",
    "print(pd.date_range('2022 Jun 5', periods=6, freq='D'))\n",
    "print(pd.date_range('2022-06-05', periods=6, freq='D')) \n",
    "print(pd.date_range('06-05-2022', periods=6, freq='D')) # month first\n",
    "print(pd.date_range('2022/06/05', periods=6, freq='D'))\n",
    "print(pd.date_range('06/05/2022', periods=6, freq='D')) # month first\n",
    "print(pd.date_range('2022.06.05', periods=6, freq='D'))\n",
    "print(pd.date_range('06.05.2022', periods=6, freq='D')) # month first\n",
    "# using full name June instead of Jun\n",
    "print(pd.date_range('June 5, 2022', periods=6, freq='D'))\n",
    "print(pd.date_range('2022 June 5', periods=6, freq='D'))"
   ]
  },
  {
   "cell_type": "code",
   "execution_count": 24,
   "metadata": {},
   "outputs": [
    {
     "data": {
      "text/plain": [
       "DatetimeIndex(['2022-06-05', '2022-06-06', '2022-06-07', '2022-06-08',\n",
       "               '2022-06-09', '2022-06-10'],\n",
       "              dtype='datetime64[ns]', freq='D')"
      ]
     },
     "execution_count": 24,
     "metadata": {},
     "output_type": "execute_result"
    }
   ],
   "source": [
    "# Using European style dates\n",
    "\n",
    "# first convert the date to datetime format with dayfirst=True\n",
    "start_date = pd.to_datetime('05-06-2022', dayfirst=True) # day first\n",
    "\n",
    "pd.date_range(start_date,periods=6,freq='D')"
   ]
  },
  {
   "cell_type": "code",
   "execution_count": 33,
   "metadata": {},
   "outputs": [
    {
     "data": {
      "text/plain": [
       "DatetimeIndex(['2022-06-05', '2022-06-06', '2022-06-07', '2022-06-08',\n",
       "               '2022-06-09', '2022-06-10'],\n",
       "              dtype='datetime64[ns]', freq='D')"
      ]
     },
     "execution_count": 33,
     "metadata": {},
     "output_type": "execute_result"
    }
   ],
   "source": [
    "# first convert the date to datetime format with dayfirst=True\n",
    "start_date = pd.to_datetime('05/06/2022', dayfirst=True) # day first\n",
    "\n",
    "pd.date_range(start_date,periods=6,freq='D')"
   ]
  },
  {
   "cell_type": "markdown",
   "metadata": {},
   "source": [
    "### Exploring Different Frequencies"
   ]
  },
  {
   "cell_type": "code",
   "execution_count": 55,
   "metadata": {},
   "outputs": [
    {
     "name": "stdout",
     "output_type": "stream",
     "text": [
      "Freq = M - Default is end of month\n",
      "DatetimeIndex(['2022-06-30', '2022-07-31', '2022-08-31', '2022-09-30',\n",
      "               '2022-10-31', '2022-11-30'],\n",
      "              dtype='datetime64[ns]', freq='M')\n",
      "Freq = MS - Start of month\n",
      "DatetimeIndex(['2022-07-01', '2022-08-01', '2022-09-01', '2022-10-01',\n",
      "               '2022-11-01', '2022-12-01'],\n",
      "              dtype='datetime64[ns]', freq='MS')\n",
      "If the start date is the start of the month, it will start from the same month\n",
      "DatetimeIndex(['2022-06-01', '2022-07-01', '2022-08-01', '2022-09-01',\n",
      "               '2022-10-01', '2022-11-01'],\n",
      "              dtype='datetime64[ns]', freq='MS')\n",
      "Freq = BM - Business end of month\n",
      "DatetimeIndex(['2022-06-30', '2022-07-29', '2022-08-31', '2022-09-30',\n",
      "               '2022-10-31', '2022-11-30'],\n",
      "              dtype='datetime64[ns]', freq='BM')\n",
      "Freq = BMS - Business start of month\n",
      "DatetimeIndex(['2022-06-01', '2022-07-01', '2022-08-01', '2022-09-01',\n",
      "               '2022-10-03', '2022-11-01', '2022-12-01', '2023-01-02',\n",
      "               '2023-02-01', '2023-03-01', '2023-04-03', '2023-05-01'],\n",
      "              dtype='datetime64[ns]', freq='BMS')\n",
      "Freq = SM - Semi-month end\n",
      "DatetimeIndex(['2022-06-30', '2022-07-15', '2022-07-31', '2022-08-15',\n",
      "               '2022-08-31', '2022-09-15'],\n",
      "              dtype='datetime64[ns]', freq='SM-15')\n",
      "Freq = SMS - Semi-month start\n",
      "DatetimeIndex(['2022-07-01', '2022-07-15', '2022-08-01', '2022-08-15',\n",
      "               '2022-09-01', '2022-09-15'],\n",
      "              dtype='datetime64[ns]', freq='SMS-15')\n"
     ]
    }
   ],
   "source": [
    "# Freq = M - Default is end of month\n",
    "print(\"Freq = M - Default is end of month\")\n",
    "print(pd.date_range('2022-06-05', periods=6, freq='M')) # Jun 30, 2022\n",
    "\n",
    "# Freq = MS - Start of month\n",
    "print(\"Freq = MS - Start of month\")\n",
    "# The below will from July 1, 2022 but not Jun 1, 2022 because the start date is Jun 5, 2022\n",
    "# as the start date is not the start of the month, it will start from the next month\n",
    "print(pd.date_range('2022-06-05', periods=6, freq='MS')) # Jul 1, 2022\n",
    "\n",
    "# if the start date is the start of the month, it will start from the same month\n",
    "print(\"If the start date is the start of the month, it will start from the same month\")\n",
    "print(pd.date_range('2022-06-01', periods=6, freq='MS')) # Jun 1, 2022\n",
    "\n",
    "# Freq = BM - Business end of month\n",
    "print(\"Freq = BM - Business end of month\")\n",
    "print(pd.date_range('2022-06-05', periods=6, freq='BM')) # Jun 30, 2022\n",
    "\n",
    "# Freq = BMS - Business start of month\n",
    "print(\"Freq = BMS - Business start of month\")\n",
    "print(pd.date_range('2022-06-01', periods=12, freq='BMS')) # Jun 1, 2022\n",
    "\n",
    "# Freq = SM - Semi-month end (15th and end of month)\n",
    "print(\"Freq = SM - Semi-month end\")\n",
    "print(pd.date_range('2022-06-25', periods=6, freq='SM')) # Jun 15, 2022\n",
    "\n",
    "# Freq = SMS - Semi-month start (1st and 15th)\n",
    "print(\"Freq = SMS - Semi-month start\")\n",
    "print(pd.date_range('2022-06-25', periods=6, freq='SMS')) # Jun 1, 2022"
   ]
  },
  {
   "cell_type": "code",
   "execution_count": 62,
   "metadata": {},
   "outputs": [
    {
     "name": "stdout",
     "output_type": "stream",
     "text": [
      "Freq Y - Year end\n",
      "DatetimeIndex(['2022-12-31', '2023-12-31', '2024-12-31', '2025-12-31',\n",
      "               '2026-12-31', '2027-12-31'],\n",
      "              dtype='datetime64[ns]', freq='A-DEC')\n",
      "Freq YS - Year start\n",
      "DatetimeIndex(['2023-01-01', '2024-01-01', '2025-01-01', '2026-01-01',\n",
      "               '2027-01-01', '2028-01-01'],\n",
      "              dtype='datetime64[ns]', freq='AS-JAN')\n",
      "Freq BY - Business Year end\n",
      "DatetimeIndex(['2022-12-30', '2023-12-29', '2024-12-31', '2025-12-31',\n",
      "               '2026-12-31', '2027-12-31', '2028-12-29', '2029-12-31',\n",
      "               '2030-12-31', '2031-12-31', '2032-12-31', '2033-12-30'],\n",
      "              dtype='datetime64[ns]', freq='BA-DEC')\n",
      "Freq BYS - Business Year start\n",
      "DatetimeIndex(['2023-01-02', '2024-01-01', '2025-01-01', '2026-01-01',\n",
      "               '2027-01-01', '2028-01-03', '2029-01-01', '2030-01-01',\n",
      "               '2031-01-01', '2032-01-01', '2033-01-03', '2034-01-02'],\n",
      "              dtype='datetime64[ns]', freq='BAS-JAN')\n"
     ]
    }
   ],
   "source": [
    "# Freq Y/A - Year end\n",
    "print(\"Freq Y - Year end\")\n",
    "print(pd.date_range('2022-06-25', periods=6, freq='Y')) # Dec 31, 2022\n",
    "\n",
    "# Freq YS or AS - Year start\n",
    "print(\"Freq YS - Year start\")\n",
    "# Starts from Jan 1, 2023\n",
    "print(pd.date_range('2022-06-25', periods=6, freq='YS')) # Jan 1, 2022\n",
    "\n",
    "# Freq BY - Year end\n",
    "print(\"Freq BY - Business Year end\")\n",
    "print(pd.date_range('2022-06-25', periods=12, freq='BY')) # Dec 31, 2022\n",
    "\n",
    "# Freq BYS - Year end\n",
    "print(\"Freq BYS - Business Year start\")\n",
    "print(pd.date_range('2022-01-25', periods=12, freq='BYS')) # Dec 31, 2022"
   ]
  },
  {
   "cell_type": "code",
   "execution_count": 65,
   "metadata": {},
   "outputs": [
    {
     "name": "stdout",
     "output_type": "stream",
     "text": [
      "Freq Q - Quarter end\n",
      "DatetimeIndex(['2022-06-30', '2022-09-30', '2022-12-31', '2023-03-31',\n",
      "               '2023-06-30', '2023-09-30'],\n",
      "              dtype='datetime64[ns]', freq='Q-DEC')\n",
      "Freq QS - Quarter start\n",
      "DatetimeIndex(['2022-07-01', '2022-10-01', '2023-01-01', '2023-04-01',\n",
      "               '2023-07-01', '2023-10-01'],\n",
      "              dtype='datetime64[ns]', freq='QS-JAN')\n"
     ]
    }
   ],
   "source": [
    "# Q - Quater\n",
    "# Jan 1 -> Q1 Start\n",
    "# Mar 31 -> Q1 End\n",
    "\n",
    "# Freq Q - Quarter end\n",
    "print(\"Freq Q - Quarter end\")\n",
    "print(pd.date_range('2022-06-25', periods=6, freq='Q')) # Jun 30, 2022\n",
    "\n",
    "# Freq QS - Quarter start\n",
    "print(\"Freq QS - Quarter start\")\n",
    "print(pd.date_range('2022-05-25', periods=6, freq='QS')) # Jul 1, 2022"
   ]
  },
  {
   "cell_type": "code",
   "execution_count": 71,
   "metadata": {},
   "outputs": [
    {
     "name": "stdout",
     "output_type": "stream",
     "text": [
      "Freq W - Weekly\n",
      "DatetimeIndex(['2022-06-26', '2022-07-03', '2022-07-10', '2022-07-17',\n",
      "               '2022-07-24', '2022-07-31'],\n",
      "              dtype='datetime64[ns]', freq='W-SUN')\n",
      "Freq WS - Weekly start\n",
      "DatetimeIndex(['2022-06-25', '2022-07-02', '2022-07-09', '2022-07-16',\n",
      "               '2022-07-23', '2022-07-30'],\n",
      "              dtype='datetime64[ns]', freq='W-SAT')\n",
      "Freq W-MON - Weekly start\n",
      "DatetimeIndex(['2022-06-27', '2022-07-04', '2022-07-11', '2022-07-18',\n",
      "               '2022-07-25', '2022-08-01'],\n",
      "              dtype='datetime64[ns]', freq='W-MON')\n"
     ]
    }
   ],
   "source": [
    "# Freq W - Weekly - Starts from Sunday\n",
    "print(\"Freq W - Weekly\") \n",
    "print(pd.date_range('2022-06-25', periods=6, freq='W')) # Jun 25, 2022\n",
    "\n",
    "# Freq W-SAT - Weekly - Starts from Saturday\n",
    "print(\"Freq WS - Weekly start\")\n",
    "print(pd.date_range('2022-06-25', periods=6, freq='W-SAT')) # Jun 25, 2022\n",
    "\n",
    "# Freq W-MON - Weekly - Starts from Sunday\n",
    "print(\"Freq W-MON - Weekly start\")\n",
    "print(pd.date_range('2022-06-25', periods=6, freq='W-MON')) # Jun 25, 2022"
   ]
  },
  {
   "cell_type": "code",
   "execution_count": 72,
   "metadata": {},
   "outputs": [
    {
     "data": {
      "text/plain": [
       "('Saturday', 'Sunday', 'Monday')"
      ]
     },
     "execution_count": 72,
     "metadata": {},
     "output_type": "execute_result"
    }
   ],
   "source": [
    "pd.Timestamp('2022-06-25').day_name(), pd.Timestamp('2022-07-03').day_name(), pd.Timestamp('2022-07-04').day_name()"
   ]
  },
  {
   "cell_type": "code",
   "execution_count": 76,
   "metadata": {},
   "outputs": [
    {
     "name": "stdout",
     "output_type": "stream",
     "text": [
      "Freq = D - Daily\n",
      "DatetimeIndex(['2022-06-05', '2022-06-06', '2022-06-07', '2022-06-08',\n",
      "               '2022-06-09', '2022-06-10'],\n",
      "              dtype='datetime64[ns]', freq='D')\n",
      "\n",
      "Freq = nD - n Days\n",
      "Freq = 2D - 2 Days\n",
      "DatetimeIndex(['2022-06-05', '2022-06-07', '2022-06-09', '2022-06-11',\n",
      "               '2022-06-13', '2022-06-15'],\n",
      "              dtype='datetime64[ns]', freq='2D')\n",
      "\n",
      "Freq = B - Business Days\n",
      "DatetimeIndex(['2022-06-06', '2022-06-07', '2022-06-08', '2022-06-09',\n",
      "               '2022-06-10', '2022-06-13'],\n",
      "              dtype='datetime64[ns]', freq='B')\n",
      "\n",
      "Freq = nB - n Business Days\n",
      "Freq = 2B - 2 Business Days\n",
      "DatetimeIndex(['2022-06-06', '2022-06-08', '2022-06-10', '2022-06-14',\n",
      "               '2022-06-16', '2022-06-20'],\n",
      "              dtype='datetime64[ns]', freq='2B')\n",
      "\n",
      "Partial Freq 2.5D - 2.5 Days -> 2 Days 12 Hours\n",
      "DatetimeIndex(['2022-06-05 00:00:00', '2022-06-07 12:00:00',\n",
      "               '2022-06-10 00:00:00', '2022-06-12 12:00:00',\n",
      "               '2022-06-15 00:00:00', '2022-06-17 12:00:00'],\n",
      "              dtype='datetime64[ns]', freq='60H')\n"
     ]
    }
   ],
   "source": [
    "# Freq = D - Daily\n",
    "print(\"Freq = D - Daily\")\n",
    "print(pd.date_range('2022-06-05', periods=6, freq='D')) # Jun 5, 2022\n",
    "\n",
    "# Freq = nD - n Days\n",
    "print(\"\\nFreq = nD - n Days\")\n",
    "print(\"Freq = 2D - 2 Days\")\n",
    "print(pd.date_range('2022-06-05', periods=6, freq='2D')) # Jun 5, 2022\n",
    "\n",
    "# Freq = B - Business Days (Excluding weekends)\n",
    "print(\"\\nFreq = B - Business Days\")\n",
    "print(pd.date_range('2022-06-05', periods=6, freq='B')) # Jun 5, 2022\n",
    "\n",
    "# Freq = nB - n Business Days (Excluding weekends)\n",
    "print(\"\\nFreq = nB - n Business Days\")\n",
    "print(\"Freq = 2B - 2 Business Days\")\n",
    "print(pd.date_range('2022-06-05', periods=6, freq='2B')) # Jun 5, 2022\n",
    "\n",
    "# Partial Freq\n",
    "print(\"\\nPartial Freq 2.5D - 2.5 Days -> 2 Days 12 Hours\")\n",
    "print(pd.date_range('2022-06-05', periods=6, freq='2.5D')) # Jun 5, 2022"
   ]
  },
  {
   "cell_type": "code",
   "execution_count": 81,
   "metadata": {},
   "outputs": [
    {
     "name": "stdout",
     "output_type": "stream",
     "text": [
      "\n",
      "Freq = H - Hourly\n",
      "Freq = 2H - 2 Hours\n",
      "DatetimeIndex(['2022-06-05 10:15:00', '2022-06-05 12:15:00',\n",
      "               '2022-06-05 14:15:00', '2022-06-05 16:15:00',\n",
      "               '2022-06-05 18:15:00', '2022-06-05 20:15:00'],\n",
      "              dtype='datetime64[ns]', freq='2H')\n",
      "\n",
      "Freq = T or min - Minutely\n",
      "Freq = 2T - 2 Minutes\n",
      "DatetimeIndex(['2022-06-05 10:15:00', '2022-06-05 10:17:00',\n",
      "               '2022-06-05 10:19:00', '2022-06-05 10:21:00',\n",
      "               '2022-06-05 10:23:00', '2022-06-05 10:25:00'],\n",
      "              dtype='datetime64[ns]', freq='2T')\n",
      "\n",
      "Freq = S - Secondly\n",
      "Freq = 2S - 2 Seconds\n",
      "DatetimeIndex(['2022-06-05 10:15:30', '2022-06-05 10:15:32',\n",
      "               '2022-06-05 10:15:34', '2022-06-05 10:15:36',\n",
      "               '2022-06-05 10:15:38', '2022-06-05 10:15:40'],\n",
      "              dtype='datetime64[ns]', freq='2S')\n",
      "\n",
      "Freq = L or ms - Millisecond\n",
      "Freq = 2L - 2 Milliseconds\n",
      "DatetimeIndex([       '2022-06-05 10:15:30', '2022-06-05 10:15:30.002000',\n",
      "               '2022-06-05 10:15:30.004000', '2022-06-05 10:15:30.006000',\n",
      "               '2022-06-05 10:15:30.008000', '2022-06-05 10:15:30.010000'],\n",
      "              dtype='datetime64[ns]', freq='2L')\n",
      "\n",
      "Freq = U or us - Microsecond\n",
      "Freq = 2U - 2 Microseconds\n",
      "DatetimeIndex([       '2022-06-05 10:15:30', '2022-06-05 10:15:30.000002',\n",
      "               '2022-06-05 10:15:30.000004', '2022-06-05 10:15:30.000006',\n",
      "               '2022-06-05 10:15:30.000008', '2022-06-05 10:15:30.000010'],\n",
      "              dtype='datetime64[ns]', freq='2U')\n",
      "\n",
      "Freq = N - Nanosecond\n",
      "Freq = 2N - 2 Nanoseconds\n",
      "DatetimeIndex([          '2022-06-05 10:15:30',\n",
      "               '2022-06-05 10:15:30.000000002',\n",
      "               '2022-06-05 10:15:30.000000004',\n",
      "               '2022-06-05 10:15:30.000000006',\n",
      "               '2022-06-05 10:15:30.000000008',\n",
      "               '2022-06-05 10:15:30.000000010'],\n",
      "              dtype='datetime64[ns]', freq='2N')\n"
     ]
    }
   ],
   "source": [
    "# Frequency with Hours, Minutes Seconds, Milliseconds, Microseconds and Nanoseconds\n",
    "\n",
    "# Freq = H - Hourly\n",
    "print(\"\\nFreq = H - Hourly\")\n",
    "print(\"Freq = 2H - 2 Hours\")\n",
    "print(pd.date_range('2022-06-05 10:15', periods=6, freq='2H')) # Jun 5, 2022\n",
    "\n",
    "# Freq = T or min - Minutely\n",
    "print(\"\\nFreq = T or min - Minutely\")\n",
    "print(\"Freq = 2T - 2 Minutes\")\n",
    "print(pd.date_range('2022-06-05 10:15', periods=6, freq='2T')) # Jun 5, 2022\n",
    "\n",
    "# Freq = S - Secondly\n",
    "print(\"\\nFreq = S - Secondly\")\n",
    "print(\"Freq = 2S - 2 Seconds\")\n",
    "print(pd.date_range('2022-06-05 10:15:30', periods=6, freq='2S')) # Jun 5, 2022\n",
    "\n",
    "# Freq = L or ms - Millisecond\n",
    "print(\"\\nFreq = L or ms - Millisecond\")\n",
    "print(\"Freq = 2L - 2 Milliseconds\")\n",
    "print(pd.date_range('2022-06-05 10:15:30', periods=6, freq='2L')) # Jun 5, 2022\n",
    "\n",
    "# Freq = U or us - Microsecond\n",
    "print(\"\\nFreq = U or us - Microsecond\")\n",
    "print(\"Freq = 2U - 2 Microseconds\")\n",
    "print(pd.date_range('2022-06-05 10:15:30', periods=6, freq='2U')) # Jun 5, 2022\n",
    "\n",
    "# Freq = N - Nanosecond\n",
    "print(\"\\nFreq = N - Nanosecond\")\n",
    "print(\"Freq = 2N - 2 Nanoseconds\")\n",
    "print(pd.date_range('2022-06-05 10:15:30', periods=6, freq='2N')) # Jun 5, 2022"
   ]
  },
  {
   "cell_type": "code",
   "execution_count": 93,
   "metadata": {},
   "outputs": [
    {
     "name": "stdout",
     "output_type": "stream",
     "text": [
      "\n",
      "Using Multiple Frequencies Together\n",
      "Freq = 2H 40min - 2 Hours 40 Minutes\n",
      "DatetimeIndex(['2022-06-05 10:15:30', '2022-06-05 12:55:30',\n",
      "               '2022-06-05 15:35:30', '2022-06-05 18:15:30',\n",
      "               '2022-06-05 20:55:30', '2022-06-05 23:35:30'],\n",
      "              dtype='datetime64[ns]', freq='160T')\n",
      "\n",
      "Freq = 2H 40min 10S - 2 Hours 40 Minutes 10 Seconds\n",
      "DatetimeIndex(['2022-06-05 10:15:30', '2022-06-05 12:55:40',\n",
      "               '2022-06-05 15:35:50', '2022-06-05 18:16:00',\n",
      "               '2022-06-05 20:56:10', '2022-06-05 23:36:20'],\n",
      "              dtype='datetime64[ns]', freq='9610S')\n",
      "\n",
      "Freq = 1D 10min - 1 Day 10 Minutes\n",
      "DatetimeIndex(['2022-06-05 10:15:30', '2022-06-06 10:25:30',\n",
      "               '2022-06-07 10:35:30', '2022-06-08 10:45:30',\n",
      "               '2022-06-09 10:55:30', '2022-06-10 11:05:30'],\n",
      "              dtype='datetime64[ns]', freq='1450T')\n",
      "\n",
      "Freq = 1M 5.5D - 1 Month 5 Days 12 Hours\n",
      "DatetimeIndex(['2022-06-05', '2022-06-06', '2022-06-07', '2022-06-08',\n",
      "               '2022-06-09', '2022-06-10'],\n",
      "              dtype='datetime64[ns]', freq='D')\n"
     ]
    }
   ],
   "source": [
    "# Using Multiple Frequencies Together \n",
    "print(\"\\nUsing Multiple Frequencies Together\")\n",
    "print(\"Freq = 2H 40min - 2 Hours 40 Minutes\")\n",
    "print(pd.date_range('2022-06-05 10:15:30', periods=6, freq='2H 40min'))\n",
    "\n",
    "print(\"\\nFreq = 2H 40min 10S - 2 Hours 40 Minutes 10 Seconds\")\n",
    "print(pd.date_range('2022-06-05 10:15:30', periods=6, freq='2H 40min 10S'))\n",
    "\n",
    "print(\"\\nFreq = 1D 10min - 1 Day 10 Minutes\")\n",
    "print(pd.date_range('2022-06-05 10:15:30', periods=6, freq='1D 10min'))\n"
   ]
  },
  {
   "cell_type": "markdown",
   "metadata": {},
   "source": [
    "Note: Multiple Frequencies with Months does not work\n",
    "\n",
    "For eg: `freq = \"2M 10D\"` will throw an error"
   ]
  },
  {
   "cell_type": "code",
   "execution_count": null,
   "metadata": {},
   "outputs": [],
   "source": []
  },
  {
   "cell_type": "markdown",
   "metadata": {},
   "source": [
    "## Datetime Arithmetics"
   ]
  },
  {
   "cell_type": "markdown",
   "metadata": {},
   "source": [
    "- pd.TimeDelta -> Only works for Weeks, Days, Hours, Minutes, Seconds, ms, micro seconds, ns"
   ]
  },
  {
   "cell_type": "markdown",
   "metadata": {},
   "source": [
    "### Day Arithmetics"
   ]
  },
  {
   "cell_type": "code",
   "execution_count": 100,
   "metadata": {},
   "outputs": [
    {
     "name": "stdout",
     "output_type": "stream",
     "text": [
      "\n",
      "Adding Dates\n",
      "Current Day: Friday\n",
      "\n",
      "Adding 1 day\n",
      "Updated Day: Saturday\n",
      "\n",
      "Adding Business Day\n",
      "Updated Day: Monday\n",
      "\n",
      "Subtracting 2 Business Day\n",
      "Current Day: Monday\n",
      "Updated Day: Thursday\n"
     ]
    }
   ],
   "source": [
    "# Adding and Subtracting Days\n",
    "print(\"\\nAdding and Subtracting Days\")\n",
    "\n",
    "friday = pd.Timestamp('2018-01-05')\n",
    "print(\"Current Day:\",friday.day_name())\n",
    "\n",
    "# Adding 1 day\n",
    "print(\"\\nAdding 1 day\")\n",
    "updatedDay = friday + pd.Timedelta('1 day')\n",
    "print(\"Updated Day:\",updatedDay.day_name())\n",
    "\n",
    "# Adding Business Day\n",
    "print(\"\\nAdding Business Day\")\n",
    "updatedDay = friday + pd.offsets.BDay()\n",
    "print(\"Updated Day:\",updatedDay.day_name())\n",
    "\n",
    "# Subtracting Business Day\n",
    "monday = pd.Timestamp('2018-01-08')\n",
    "print(\"\\nSubtracting 2 Business Days\")\n",
    "print(\"Current Day:\",monday.day_name())\n",
    "updatedDay = monday - pd.offsets.BDay(2)\n",
    "print(\"Updated Day:\",updatedDay.day_name())"
   ]
  },
  {
   "cell_type": "markdown",
   "metadata": {},
   "source": [
    "### Month and Quarter Arithmetics"
   ]
  },
  {
   "cell_type": "code",
   "execution_count": 105,
   "metadata": {},
   "outputs": [
    {
     "name": "stdout",
     "output_type": "stream",
     "text": [
      "\n",
      "Adding and Subtracting Months\n",
      "\n",
      "Adding 1 month\n",
      "Current Month: January 2018-01-31 00:00:00\n",
      "Updated Month: February 2018-02-14 00:00:00\n"
     ]
    }
   ],
   "source": [
    "# adding and subtractin months\n",
    "print(\"\\nAdding and Subtracting Months\")\n",
    "\n",
    "# Adding 1 month\n",
    "print(\"\\nAdding 1 month\")\n",
    "january = pd.Timestamp('2018-01-31')\n",
    "print(\"Current Month:\",january.month_name(), january)\n",
    "# updatedMonth = january + pd.offsets.MonthBegin()\n",
    "updatedMonth = january + pd.Timedelta('2W')\n",
    "print(\"Updated Month:\",updatedMonth.month_name(), updatedMonth)"
   ]
  },
  {
   "cell_type": "code",
   "execution_count": null,
   "metadata": {},
   "outputs": [],
   "source": []
  }
 ],
 "metadata": {
  "kernelspec": {
   "display_name": "office",
   "language": "python",
   "name": "python3"
  },
  "language_info": {
   "codemirror_mode": {
    "name": "ipython",
    "version": 3
   },
   "file_extension": ".py",
   "mimetype": "text/x-python",
   "name": "python",
   "nbconvert_exporter": "python",
   "pygments_lexer": "ipython3",
   "version": "3.10.11"
  }
 },
 "nbformat": 4,
 "nbformat_minor": 2
}
